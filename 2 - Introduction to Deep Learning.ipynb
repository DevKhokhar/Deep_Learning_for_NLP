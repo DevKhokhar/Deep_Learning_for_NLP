{
 "cells": [
  {
   "cell_type": "markdown",
   "metadata": {},
   "source": [
    "### What is Deep Learning?  \n",
    "\n",
    "Deep Learning is a sub-field of Machine Learning. It works in the space of *Representation Learning* that attempts to automatically learn good features or representations. Deep Learning algorithms attempts at learning multiple levels of representation and an output.\n",
    "\n",
    "__Source__:  \n",
    "* [Deep Learning for Natural Language Processing, Stanford University School of Engineering](https://www.youtube.com/playlist?list=PL3FW7Lu3i5Jsnh1rnUwq_TcylNr7EkRe6) "
   ]
  },
  {
   "cell_type": "markdown",
   "metadata": {},
   "source": [
    "### Why has Deep Learning become so popular in the recent times?  \n",
    "* Deep Learning provides a very flexible, almost universal, learnable framework for representing world, visual and lingustic information.\n",
    "* Deep Learning can be used in both supervised as well as unsupervised learning scenarios. \n",
    "* Large amounts of training data favors deep learning.\n",
    "* Faster machines and multicore CPUs/GPUs favor deep learning.\n",
    "\n",
    "__Source__:  \n",
    "* [Deep Learning for Natural Language Processing, Stanford University School of Engineering](https://www.youtube.com/playlist?list=PL3FW7Lu3i5Jsnh1rnUwq_TcylNr7EkRe6) "
   ]
  },
  {
   "cell_type": "markdown",
   "metadata": {},
   "source": [
    "### Introduction to Convolutional Neural Networks"
   ]
  },
  {
   "cell_type": "markdown",
   "metadata": {},
   "source": [
    "### References\n",
    "* [Juergen Schmidhuber (2014), Deep Learning in Neural Networks : An Overview](https://arxiv.org/abs/1404.7828)"
   ]
  }
 ],
 "metadata": {
  "kernelspec": {
   "display_name": "Python 2",
   "language": "python",
   "name": "python2"
  },
  "language_info": {
   "codemirror_mode": {
    "name": "ipython",
    "version": 2
   },
   "file_extension": ".py",
   "mimetype": "text/x-python",
   "name": "python",
   "nbconvert_exporter": "python",
   "pygments_lexer": "ipython2",
   "version": "2.7.10"
  }
 },
 "nbformat": 4,
 "nbformat_minor": 0
}
