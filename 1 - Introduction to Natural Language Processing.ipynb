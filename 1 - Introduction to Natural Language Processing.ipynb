{
 "cells": [
  {
   "cell_type": "markdown",
   "metadata": {},
   "source": [
    "### What is Natural Language Processing?    \n",
    "Natural Language Processing is a field of computer science, artificial intelligence concerned with the interactions between computers and human languages, and, in particular, concerned with programming computers to fruitfully proces large natural language data. This field is at the intersection of computer science, artificial intelligence and computational linguistics. Challenges in natural-language processing frequently involve speech recognition, natural-language understanding, and natural-language generation. Fully understanding and representing the meaning of language (or even defining it) is a difficult goal. Perfect language understanding is AI-complete.\n",
    "\n",
    "__Source__:  \n",
    "* [Wikipedia](https://en.wikipedia.org/wiki/Natural-language_processing)  \n",
    "* [Deep Learning for Natural Language Processing, Stanford University School of Engineering](https://www.youtube.com/playlist?list=PL3FW7Lu3i5Jsnh1rnUwq_TcylNr7EkRe6)  \n",
    "\n",
    "----------------------------------------------------------------------------------------------------------------------"
   ]
  },
  {
   "cell_type": "markdown",
   "metadata": {},
   "source": [
    "### Levels of Natural Language Processing  \n",
    "\n",
    "![Levels of Natural Language Processing](https://www.researchgate.net/profile/Puneet_Kumar26/publication/305807469/figure/fig1/AS:391235081654272@1470289120095/Figure-Levels-of-NLP.png)\n",
    "\n",
    "The levels might differ depending on whether you are working with textual data or speech data.  \n",
    "\n",
    "__Source__:  \n",
    "[Kumar, Puneet. (2012), Natural Language Process: New Orientations in English Language Practices, Research Gate](http://bit.ly/2FYSTBa)  \n",
    "\n",
    "----------------------------------------------------------------------------------------------------------------------"
   ]
  },
  {
   "cell_type": "markdown",
   "metadata": {},
   "source": [
    "### Phonological Analysis - Interpretation of speech sounds\n",
    "\n",
    "Phonology is a branch of linguistics concerned with the systematic organization of sounds in languages.\n",
    "\n",
    "##### Difference between phonetics and phonology\n",
    "\n",
    "Phonetics simply describes the articulatory and acoustic properties of phones (speech sounds).  Phonology studies how sounds interact as a system in a particular language.  Stated another way, phonetics studies which sounds are present in a language; phonology studies how these sounds combine and how they change in combination, as well as which sounds can contrast to produce differences in meaning (phonology describes the phones as allophones of phonemes). \n",
    "      \n",
    "Example: Released vs. unreleased t\n",
    "      \n",
    "__Source__:  \n",
    "* [Wikipedia](https://en.wikipedia.org/wiki/Phonology)  \n",
    "* [Phonology](http://pandora.cii.wwu.edu/vajda/ling201/test2materials/Phonology1.htm)  \n",
    "\n",
    "----------------------------------------------------------------------------------------------------------------------"
   ]
  },
  {
   "cell_type": "markdown",
   "metadata": {},
   "source": [
    "### Morphological Analysis - arrangement of parts in a word\n",
    "\n",
    "Morphology is branch of linguistics that studies how words can be structured and formed. In linguistics, morphology is the study of words, how they are formed, and their relationship to other words in the same language.\n",
    "\n",
    "Example: {Call, Calling, Caller, ...} -> Call\n",
    "\n",
    "![Morphological Analysis](https://www.cs.bham.ac.uk/~pjh/sem1a5/pt2/pt2_intro_morph_1.gif)\n",
    "\n",
    "__Source__:  \n",
    "* [Morphological Analysis](https://www.packtpub.com/mapt/book/big_data_and_business_intelligence/9781787121423/3/ch03lvl1sec26/morphological-analysis)  \n",
    "* [Wikipedia](http://bit.ly/2t3vtZZ)  \n",
    "\n",
    "----------------------------------------------------------------------------------------------------------------------"
   ]
  },
  {
   "cell_type": "markdown",
   "metadata": {},
   "source": [
    "### Lexical Analysis - meaning of each word\n",
    "\n",
    "In computer science, lexical analysis, lexing or tokenization is the process of converting a sequence of characters into a sequence of tokens (strings with an assigned and thus identified meaning).\n",
    "\n",
    "It involves identifying and analyzing the structure of words. Lexicon of a language means the collection of words and phrases in a language. Lexical analysis is dividing the whole chunk of txt into paragraphs, sentences, and words.\n",
    "\n",
    "__Source__:  \n",
    "* [Wikipedia](https://en.wikipedia.org/wiki/Lexical_analysis)  \n",
    "* [Lexical Analysis](https://www.tutorialspoint.com/artificial_intelligence/artificial_intelligence_natural_language_processing.htm) \n",
    "\n",
    "----------------------------------------------------------------------------------------------------------------------"
   ]
  },
  {
   "cell_type": "markdown",
   "metadata": {},
   "source": [
    "### Syntactic Analysis - Structure of the grammar\n",
    "\n",
    "It involves analysis of words in the sentence for grammar and arranging words in a manner that shows the relationship among the words. The sentence such as “The school goes to boy” is rejected by English syntactic analyzer.\n",
    "\n",
    "![Syntactic Analysis](http://www.doc.ic.ac.uk/~nd/surprise_97/journal/vol1/ctt/tree.gif)\n",
    "\n",
    "__Source__:  \n",
    "* [Syntactic Analysis](https://www.tutorialspoint.com/artificial_intelligence/artificial_intelligence_natural_language_processing.htm)  \n",
    "* [Natural Language Processing... Understanding what you say](http://www.doc.ic.ac.uk/~nd/surprise_97/journal/vol1/ctt/article1.htm)  \n",
    "\n",
    "----------------------------------------------------------------------------------------------------------------------"
   ]
  },
  {
   "cell_type": "markdown",
   "metadata": {},
   "source": [
    "### Semantic Analysis - Meaning of sentence  \n",
    "\n",
    "The meaning of a text is called its semantics. Semantic analysis describes the process of understanding natural language - the way that humans communicate-based on meaning and context. \n",
    "\n",
    "It draws the exact meaning or the dictionary meaning from the text. The text is checked for meaningfulness. It is done by mapping syntactic structures and objects in the task domain. \n",
    "\n",
    "__Source__:  \n",
    "* [Semantics - Meaning Representation in NLP](http://www.bowdoin.edu/~allen/nlp/nlp6.html)  \n",
    "* [AI - Natural Language Processing](https://www.tutorialspoint.com/artificial_intelligence/artificial_intelligence_natural_language_processing.htm)  \n",
    "\n",
    "----------------------------------------------------------------------------------------------------------------------"
   ]
  },
  {
   "cell_type": "markdown",
   "metadata": {},
   "source": [
    "### Discourse Analysis - Analysis of larger speech units  \n",
    "\n",
    "Discourse analysis may be defined as the process of performing text or language analysis, which involves text interpretation and knowing the social interactions. Discourse analysis may involve dealing with morphemes, n-grams, tenses, verbal aspects, page layouts, and so on. \n",
    "\n",
    "__Source__:  \n",
    "* [Introduce discourse analysis](https://www.packtpub.com/mapt/book/big_data_and_business_intelligence/9781787285101/28/ch09lvl1sec0055/introducing-discourse-analysis)  \n",
    "\n",
    "----------------------------------------------------------------------------------------------------------------------"
   ]
  },
  {
   "cell_type": "markdown",
   "metadata": {},
   "source": [
    "### Pragmatic Analysis - Purposeful use for situation-specific meaning  \n",
    "\n",
    "Pragmatic analysis deals with outside word knowledge, which means knowledge that is external to the documents and/or queries. Pragmatics analysis that focuses on what was described is reinterpreted by what it actually meant, deriving the various aspects of language that require real world knowledge.\n",
    "\n",
    "During this, what was said is re-interpreted on what it actually meant. It involves deriving those aspects of language which require real world knowledge.\n",
    "\n",
    "__Source__:  \n",
    "* [Pragmatic Analysis](https://www.packtpub.com/mapt/book/big_data_and_business_intelligence/9781787121423/3/ch03lvl1sec31/pragmatic-analysis)  \n",
    "* [AI - Natural Language Processing](https://www.tutorialspoint.com/artificial_intelligence/artificial_intelligence_natural_language_processing.htm)  \n",
    "\n",
    "----------------------------------------------------------------------------------------------------------------------"
   ]
  },
  {
   "cell_type": "markdown",
   "metadata": {},
   "source": [
    "### Types of applications of Natural Language Processing  \n",
    "\n",
    "* Automatic Document Summarization\n",
    "* Information Extraction\n",
    "* Machine Translation\n",
    "* Named Entity Recognition\n",
    "* Natural language generation\n",
    "* Natural language search\n",
    "* Natural language understanding\n",
    "* Question Answering\n",
    "* Speech Recognition\n",
    "* Text-to-speech conversion\n",
    "* Sentiment Analysis\n",
    "* Text Classification\n",
    "* Chatbots\n",
    "* Conversational Search\n",
    "* Spell checking\n",
    "\n",
    "__Recommended reading__:  \n",
    "https://medium.com/@datamonsters/artificial-neural-networks-in-natural-language-processing-bcf62aa9151a\n",
    "\n",
    "----------------------------------------------------------------------------------------------------------------------"
   ]
  },
  {
   "cell_type": "markdown",
   "metadata": {},
   "source": [
    "### Why is Natural Language Processing hard?  \n",
    "\n",
    "* Complexity in representing, learning and using linguistic/situational/world/visual knowledge  \n",
    "* Human language are ambiguous (unlike programming and other formal languages)  \n",
    "* Human language interpretation depends on the real world, common sense, and contextual knowledge  \n",
    "\n",
    "----------------------------------------------------------------------------------------------------------------------"
   ]
  },
  {
   "cell_type": "markdown",
   "metadata": {},
   "source": [
    "### NLTK Example"
   ]
  },
  {
   "cell_type": "code",
   "execution_count": null,
   "metadata": {
    "collapsed": false
   },
   "outputs": [],
   "source": [
    "import nltk   \n",
    "from urllib import urlopen\n",
    "\n",
    "url = \"https://en.wikipedia.org/wiki/Natural-language_processing\"    \n",
    "html = urlopen(url).read()    \n",
    "raw = nltk.clean_html(html)  \n",
    "print(raw)"
   ]
  },
  {
   "cell_type": "code",
   "execution_count": null,
   "metadata": {
    "collapsed": false
   },
   "outputs": [],
   "source": [
    "print len(raw)"
   ]
  },
  {
   "cell_type": "code",
   "execution_count": null,
   "metadata": {
    "collapsed": false
   },
   "outputs": [],
   "source": [
    "from nltk import word_tokenize\n",
    "tokens = word_tokenize(raw)\n",
    "print type(tokens)\n",
    "print len(tokens)"
   ]
  },
  {
   "cell_type": "code",
   "execution_count": null,
   "metadata": {
    "collapsed": false
   },
   "outputs": [],
   "source": [
    "print raw.find(\"Language\")\n",
    "print raw.rfind(\"Language\")"
   ]
  },
  {
   "cell_type": "code",
   "execution_count": null,
   "metadata": {
    "collapsed": false
   },
   "outputs": [],
   "source": [
    "import enchant\n",
    "d = enchant.Dict(\"en_US\")\n",
    "clean_tokens = [token for token in tokens if d.check(token)]\n",
    "print len(clean_tokens)\n",
    "print clean_tokens"
   ]
  },
  {
   "cell_type": "code",
   "execution_count": null,
   "metadata": {
    "collapsed": false
   },
   "outputs": [],
   "source": [
    "clean_tokens = [token for token in tokens if token.isalpha()]\n",
    "print len(clean_tokens)\n",
    "print clean_tokens"
   ]
  },
  {
   "cell_type": "code",
   "execution_count": null,
   "metadata": {
    "collapsed": true
   },
   "outputs": [],
   "source": [
    "from nltk import word_tokenize, ne_chunk, pos_tag\n",
    "chunked = ne_chunk(pos_tag(clean_tokens))"
   ]
  },
  {
   "cell_type": "code",
   "execution_count": null,
   "metadata": {
    "collapsed": false
   },
   "outputs": [],
   "source": [
    "for i in chunked:\n",
    "    print i"
   ]
  },
  {
   "cell_type": "code",
   "execution_count": null,
   "metadata": {
    "collapsed": false
   },
   "outputs": [],
   "source": [
    "import nltk\n",
    "from nltk.corpus import stopwords\n",
    "stop_words = set(stopwords.words('english'))"
   ]
  },
  {
   "cell_type": "code",
   "execution_count": null,
   "metadata": {
    "collapsed": false
   },
   "outputs": [],
   "source": [
    "filtered_tokens = [w for w in clean_tokens if not w in stop_words]\n",
    "print filtered_tokens"
   ]
  },
  {
   "cell_type": "code",
   "execution_count": null,
   "metadata": {
    "collapsed": false
   },
   "outputs": [],
   "source": [
    "from nltk.corpus import wordnet as wn\n",
    "wn.synsets('language')"
   ]
  }
 ],
 "metadata": {
  "kernelspec": {
   "display_name": "Python 2",
   "language": "python",
   "name": "python2"
  },
  "language_info": {
   "codemirror_mode": {
    "name": "ipython",
    "version": 2
   },
   "file_extension": ".py",
   "mimetype": "text/x-python",
   "name": "python",
   "nbconvert_exporter": "python",
   "pygments_lexer": "ipython2",
   "version": "2.7.10"
  }
 },
 "nbformat": 4,
 "nbformat_minor": 0
}
