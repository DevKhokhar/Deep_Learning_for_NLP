{
 "cells": [
  {
   "cell_type": "markdown",
   "metadata": {},
   "source": [
    "### What is Natural Language Processing?\n",
    "Natural Language Processing is a field of computer science, artificial intelligence concerned with the interactions between computers and human languages, and, in particular, concerned with programming computers to fruitfully proces large natural language data. This field is at the intersection of computer science, artificial intelligence and computational linguistics. Challenges in natural-language processing frequently involve speech recognition, natural-language understanding, and natural-language generation. Fully understanding and representing the meaning of language (or even defining it) is a difficult goal. Perfect language understanding is AI-complete.\n",
    "\n",
    "__Source__:  \n",
    "* [Wikipedia](https://en.wikipedia.org/wiki/Natural-language_processing)  \n",
    "* [Deep Learning for Natural Language Processing, Stanford University School of Engineering](https://www.youtube.com/playlist?list=PL3FW7Lu3i5Jsnh1rnUwq_TcylNr7EkRe6)  "
   ]
  },
  {
   "cell_type": "markdown",
   "metadata": {},
   "source": [
    "### Levels of Natural Language Processing  \n",
    "\n",
    "![Levels of Natural Language Processing](https://www.researchgate.net/profile/Puneet_Kumar26/publication/305807469/figure/fig1/AS:391235081654272@1470289120095/Figure-%27Levels-of-NLP%27.png)\n",
    "\n",
    "The levels might differ depending on whether you are working with textual data or speech data.  \n",
    "\n",
    "__Source__:  \n",
    "[Kumar, Puneet. (2012), Natural Language Process: New Orientations in English Language Practices, Research Gate](http://bit.ly/2FYSTBa)  \n",
    "\n",
    "*[To-do] Add in definitions and examples for each of the levels.*"
   ]
  },
  {
   "cell_type": "markdown",
   "metadata": {},
   "source": [
    "### Types of applications of Natural Language Processing"
   ]
  },
  {
   "cell_type": "markdown",
   "metadata": {},
   "source": [
    "### Why is Natural Language Processing hard?  \n",
    "\n",
    "* Complexity in representing, learning and using linguistic/situational/world/visual knowledge  \n",
    "* Human language are ambiguous (unlike programming and other formal languages)  \n",
    "* Human language interpretation depends on the real world, common sense, and contextual knowledge"
   ]
  },
  {
   "cell_type": "markdown",
   "metadata": {},
   "source": [
    "### Difference between *Computational Linguistics* and *Natural Language Processing*"
   ]
  }
 ],
 "metadata": {
  "kernelspec": {
   "display_name": "Python 2",
   "language": "python",
   "name": "python2"
  },
  "language_info": {
   "codemirror_mode": {
    "name": "ipython",
    "version": 2
   },
   "file_extension": ".py",
   "mimetype": "text/x-python",
   "name": "python",
   "nbconvert_exporter": "python",
   "pygments_lexer": "ipython2",
   "version": "2.7.10"
  }
 },
 "nbformat": 4,
 "nbformat_minor": 0
}
