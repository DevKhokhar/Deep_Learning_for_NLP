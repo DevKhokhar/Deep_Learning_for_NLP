{
 "cells": [
  {
   "cell_type": "markdown",
   "metadata": {},
   "source": [
    "### What is Deep Learning?  \n",
    "\n",
    "Deep Learning is a sub-field of Machine Learning. It works in the space of *Representation Learning* that attempts to automatically learn good features or representations. Deep Learning algorithms attempts at learning multiple levels of representation and an output.\n",
    "\n",
    "It is part of a broader family of machine learning methods based on learning data representations, as opposed to task-specific algorithms.\n",
    "\n",
    "A deep neural network (DNN) is an artificial neural network (ANN) with multiple hidden layers between the input and output layers. DNNs can model complex non-linear relationships.\n",
    "\n",
    "DNNs are typically feedforward networks in which data flows from the input layer to the output layer without looping back. Recurrent neural networks (RNNs), in which data can flow in any direction, are used for applications such as language modeling.\n",
    "\n",
    "__Source__:  \n",
    "* [Deep Learning for Natural Language Processing, Stanford University School of Engineering](https://www.youtube.com/playlist?list=PL3FW7Lu3i5Jsnh1rnUwq_TcylNr7EkRe6) \n",
    "* [Wikipedia](https://en.wikipedia.org/wiki/Deep_learning)"
   ]
  },
  {
   "cell_type": "markdown",
   "metadata": {},
   "source": [
    "![](https://3qeqpr26caki16dnhd19sv6by6v-wpengine.netdna-ssl.com/wp-content/uploads/2016/08/Deep-Learning-Learning-Hierarchical-Representations-1024x659.png)"
   ]
  },
  {
   "cell_type": "markdown",
   "metadata": {},
   "source": [
    "### Why has Deep Learning become so popular in the recent times?  \n",
    "* Deep Learning provides a very flexible, almost universal, learnable framework for representing world, visual and lingustic information.\n",
    "* Deep Learning can be used in both supervised as well as unsupervised learning scenarios. \n",
    "* Large amounts of training data favors deep learning.\n",
    "* Faster machines and multicore CPUs/GPUs favor deep learning.\n",
    "\n",
    "__Source__:  \n",
    "* [Deep Learning for Natural Language Processing, Stanford University School of Engineering](https://www.youtube.com/playlist?list=PL3FW7Lu3i5Jsnh1rnUwq_TcylNr7EkRe6) "
   ]
  },
  {
   "cell_type": "markdown",
   "metadata": {},
   "source": [
    "### Applications of Deep Learning\n",
    "\n",
    "* Automatic speech recognition\n",
    "* Image recognition\n",
    "* Optical character recognition\n",
    "* Natural language processing\n",
    "* Recommendation systems\n"
   ]
  },
  {
   "cell_type": "markdown",
   "metadata": {},
   "source": [
    "\n",
    "![Scalability of Neural Networks](https://3qeqpr26caki16dnhd19sv6by6v-wpengine.netdna-ssl.com/wp-content/uploads/2016/08/Results-Get-Better-With-More-Data-Larger-Models-More-Compute.png)"
   ]
  },
  {
   "cell_type": "markdown",
   "metadata": {},
   "source": [
    "### Challenges\n",
    "\n",
    "* DNNs are prone to overfitting because of the added layers of abstraction, which allow them to model rare dependencies in the training data. Data can be augmented via methods such as cropping and rotating such that smaller training sets can be increased in size to reduce the chances of overfitting.  \n",
    "* DNNs must consider many training parameters, such as the size (number of layers and number of units per layer), the learning rate, and initial weights. Sweeping through the parameter space for optimal parameters may not be feasible due to the cost in time and computational resources. "
   ]
  },
  {
   "cell_type": "markdown",
   "metadata": {},
   "source": [
    "### Recommended readings\n",
    "* [Juergen Schmidhuber (2014), Deep Learning in Neural Networks : An Overview](https://arxiv.org/abs/1404.7828)\n",
    "* [Deep Learning](http://deeplearning.net/)\n",
    "* [Deeplearning.ai](https://www.deeplearning.ai/)"
   ]
  }
 ],
 "metadata": {
  "kernelspec": {
   "display_name": "Python 2",
   "language": "python",
   "name": "python2"
  },
  "language_info": {
   "codemirror_mode": {
    "name": "ipython",
    "version": 2
   },
   "file_extension": ".py",
   "mimetype": "text/x-python",
   "name": "python",
   "nbconvert_exporter": "python",
   "pygments_lexer": "ipython2",
   "version": "2.7.10"
  }
 },
 "nbformat": 4,
 "nbformat_minor": 0
}
