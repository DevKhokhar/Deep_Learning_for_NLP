{
 "cells": [
  {
   "cell_type": "markdown",
   "metadata": {},
   "source": [
    "# Linear Regression using TensorFlow"
   ]
  },
  {
   "cell_type": "markdown",
   "metadata": {},
   "source": [
    "Import libraries tensorflow and numpy"
   ]
  },
  {
   "cell_type": "code",
   "execution_count": 8,
   "metadata": {
    "collapsed": true
   },
   "outputs": [],
   "source": [
    "import tensorflow as tf\n",
    "import numpy as np"
   ]
  },
  {
   "cell_type": "markdown",
   "metadata": {},
   "source": [
    "The following function generates data for the independent variable x, and the dependent variable y.\n",
    "numpy.linspace is a function that returns evenly spaced numbers between arg0 and arg1.\n",
    "np.random.randn returns randomly generated numbers of given shape\n",
    "\n",
    "To refer to the documentation of any function insert a new cell and run the command \n",
    "?function_name"
   ]
  },
  {
   "cell_type": "code",
   "execution_count": 9,
   "metadata": {
    "collapsed": true
   },
   "outputs": [],
   "source": [
    "#*before x.shape unpacks tuple\n",
    "def generate_dataset():\n",
    "    x = np.linspace(-1,1,101)\n",
    "    y = 2 * x + np.random.randn(*x.shape) * 0.3\n",
    "    \n",
    "    return x,y"
   ]
  },
  {
   "cell_type": "markdown",
   "metadata": {},
   "source": [
    "The following function defines the dataflow graph for the linear regression model. The model is defined within a variable scope which is used to define the scope of a graph."
   ]
  },
  {
   "cell_type": "code",
   "execution_count": 17,
   "metadata": {
    "collapsed": true
   },
   "outputs": [],
   "source": [
    "def linear_regression():\n",
    "    x = tf.placeholder(tf.float32, shape=(None,), name = 'x')\n",
    "    y = tf.placeholder(tf.float32, shape=(None,), name = 'y')\n",
    "    \n",
    "    with tf.variable_scope(\"lreg\") as scope:\n",
    "        w = tf.Variable(np.random.normal(), name = 'w')\n",
    "        y_pred = tf.multiply(w,x)\n",
    "        \n",
    "        loss = tf.reduce_mean(tf.square(y_pred - y))    \n",
    "    return x,y,y_pred,loss"
   ]
  },
  {
   "cell_type": "markdown",
   "metadata": {},
   "source": [
    "The following function calls generate_dataset() and linear_regression() to generate the dataset, and construct the linear regression model graph.\n",
    "Gradient Descent Optimizer with a learning rate of 0.1 is used to train the model"
   ]
  },
  {
   "cell_type": "code",
   "execution_count": 20,
   "metadata": {
    "collapsed": true
   },
   "outputs": [],
   "source": [
    "def run():\n",
    "    x_batch,y_batch = generate_dataset()\n",
    "    x,y,y_pred,loss = linear_regression()\n",
    "    print('x', x)\n",
    "    print('y', y)\n",
    "    print('y_pred', y_pred)\n",
    "    print('loss', loss)\n",
    "    optimizer = tf.train.GradientDescentOptimizer(0.1).minimize(loss)\n",
    "    \n",
    "    init = tf.global_variables_initializer()\n",
    "    with tf.Session() as session:\n",
    "        session.run(init)\n",
    "        feed_dict = {x:x_batch, y:y_batch}\n",
    "    \n",
    "        for _ in range(30):\n",
    "            loss_val, _ = session.run([loss,optimizer], feed_dict)\n",
    "            print('loss', loss_val.mean())\n",
    "        \n",
    "        y_pred_batch = session.run(y_pred, {x:x_batch})\n",
    "        print('Predictions:')\n",
    "        print(y_pred_batch)"
   ]
  },
  {
   "cell_type": "code",
   "execution_count": 21,
   "metadata": {},
   "outputs": [
    {
     "name": "stdout",
     "output_type": "stream",
     "text": [
      "W <tf.Variable 'lreg_4/w:0' shape=() dtype=float32_ref>\n",
      "x Tensor(\"x_4:0\", shape=(?,), dtype=float32)\n",
      "y Tensor(\"y_4:0\", shape=(?,), dtype=float32)\n",
      "y_pred Tensor(\"lreg_4/Mul:0\", shape=(?,), dtype=float32)\n",
      "loss Tensor(\"lreg_4/Mean:0\", shape=(), dtype=float32)\n",
      "loss 0.419928\n",
      "loss 0.379548\n",
      "loss 0.344473\n",
      "loss 0.314006\n",
      "loss 0.287542\n",
      "loss 0.264555\n",
      "loss 0.244587\n",
      "loss 0.227243\n",
      "loss 0.212177\n",
      "loss 0.199091\n",
      "loss 0.187724\n",
      "loss 0.17785\n",
      "loss 0.169273\n",
      "loss 0.161823\n",
      "loss 0.155352\n",
      "loss 0.149731\n",
      "loss 0.144849\n",
      "loss 0.140608\n",
      "loss 0.136924\n",
      "loss 0.133724\n",
      "loss 0.130945\n",
      "loss 0.12853\n",
      "loss 0.126433\n",
      "loss 0.124611\n",
      "loss 0.123029\n",
      "loss 0.121655\n",
      "loss 0.120461\n",
      "loss 0.119424\n",
      "loss 0.118523\n",
      "loss 0.11774\n",
      "Predictions:\n",
      "[-1.88131189 -1.84368575 -1.80605936 -1.76843321 -1.73080695 -1.69318068\n",
      " -1.65555441 -1.61792827 -1.580302   -1.54267573 -1.50504959 -1.4674232\n",
      " -1.42979705 -1.39217079 -1.35454464 -1.31691825 -1.27929211 -1.24166584\n",
      " -1.20403957 -1.16641343 -1.12878716 -1.09116089 -1.05353463 -1.01590848\n",
      " -0.97828215 -0.94065595 -0.90302968 -0.86540347 -0.82777721 -0.790151\n",
      " -0.75252479 -0.71489853 -0.67727232 -0.63964605 -0.60201979 -0.56439358\n",
      " -0.52676731 -0.48914108 -0.45151484 -0.4138886  -0.3762624  -0.33863616\n",
      " -0.30100989 -0.26338366 -0.22575742 -0.1881312  -0.15050495 -0.11287871\n",
      " -0.07525247 -0.03762624  0.          0.03762624  0.07525247  0.11287871\n",
      "  0.15050495  0.1881312   0.22575742  0.26338366  0.30100989  0.33863616\n",
      "  0.3762624   0.4138886   0.45151484  0.48914108  0.52676731  0.56439358\n",
      "  0.60201979  0.63964605  0.67727232  0.71489853  0.75252479  0.790151\n",
      "  0.82777721  0.86540347  0.90302968  0.94065595  0.97828215  1.01590848\n",
      "  1.05353463  1.09116089  1.12878716  1.16641343  1.20403957  1.24166584\n",
      "  1.27929211  1.31691825  1.35454464  1.39217079  1.42979705  1.4674232\n",
      "  1.50504959  1.54267573  1.580302    1.61792827  1.65555441  1.69318068\n",
      "  1.73080695  1.76843321  1.80605936  1.84368575  1.88131189]\n"
     ]
    }
   ],
   "source": [
    "run()"
   ]
  },
  {
   "cell_type": "markdown",
   "metadata": {},
   "source": [
    "Run the following command to generate visualization of the graph we created in linear_regression().\n",
    "\n",
    "This command will create a directory 'logs' with the visualizations. To view the visualizations on tensorboard, navigate to the working directory in your terminal and run the following command:\n",
    "\n",
    "tensorboard --logdir=logs\n",
    "\n",
    "You can view then view the graph at http://localhost:6006 (port may vary)"
   ]
  },
  {
   "cell_type": "code",
   "execution_count": 26,
   "metadata": {
    "collapsed": true
   },
   "outputs": [],
   "source": [
    "g = tf.Graph()\n",
    "\n",
    "with g.as_default():\n",
    "    x = tf.placeholder(tf.float32, shape=(None,), name = 'x')\n",
    "    y = tf.placeholder(tf.float32, shape=(None,), name = 'y')\n",
    "    \n",
    "    with tf.variable_scope(\"lreg\") as scope:\n",
    "        w = tf.Variable(np.random.normal(), name = 'w')\n",
    "        y_pred = tf.multiply(w,x)\n",
    "    \n",
    "tf.summary.FileWriter(\"logs\", g).close()"
   ]
  },
  {
   "cell_type": "code",
   "execution_count": null,
   "metadata": {
    "collapsed": true
   },
   "outputs": [],
   "source": []
  }
 ],
 "metadata": {
  "kernelspec": {
   "display_name": "Python [conda env:nlp]",
   "language": "python",
   "name": "conda-env-nlp-py"
  },
  "language_info": {
   "codemirror_mode": {
    "name": "ipython",
    "version": 3
   },
   "file_extension": ".py",
   "mimetype": "text/x-python",
   "name": "python",
   "nbconvert_exporter": "python",
   "pygments_lexer": "ipython3",
   "version": "3.6.2"
  }
 },
 "nbformat": 4,
 "nbformat_minor": 1
}
