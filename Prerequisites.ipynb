{
 "cells": [
  {
   "cell_type": "markdown",
   "metadata": {},
   "source": [
    "### Prerequisites for \"Natural Language for Deep Learning\" workshop at Cyber Physical Systems for Next Generation Computing Conference at Bannari Amman Institute of Technology on March 1, 2018\n",
    "\n",
    "* Working knowledge of Python\n",
    "* Linear Algebra and multivariate calculus\n",
    "* Knowledge of probability and statistics\n",
    "* Background in Machine Learning"
   ]
  }
 ],
 "metadata": {
  "kernelspec": {
   "display_name": "Python 2",
   "language": "python",
   "name": "python2"
  },
  "language_info": {
   "codemirror_mode": {
    "name": "ipython",
    "version": 2
   },
   "file_extension": ".py",
   "mimetype": "text/x-python",
   "name": "python",
   "nbconvert_exporter": "python",
   "pygments_lexer": "ipython2",
   "version": "2.7.10"
  }
 },
 "nbformat": 4,
 "nbformat_minor": 0
}
