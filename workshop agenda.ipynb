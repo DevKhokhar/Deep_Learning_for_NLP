{
 "cells": [
  {
   "cell_type": "markdown",
   "metadata": {},
   "source": [
    "* 9:00 am - 10:00 am : Introduction to NLP\n",
    "* 10:00 am - 10:45 am : Introduction to Deep Learning\n",
    "* 10:45 am - 11:00 am : Break\n",
    "* 11:00 am - 12:00 pm : Word embeddings\n",
    "* 12:00 pm - 12:30 pm : Introduction to word2vec\n",
    "* 12:30 pm - 1:30 pm : Break\n",
    "* 1:30 pm - 2:00 pm : Q&A\n",
    "* 2:00 pm - 3:00 pm : Word2Vec hands-on\n",
    "* 3:00 pm - 4:00 pm : Tensor Flow\n",
    "* 4:00 pm - 4:30 pm : Recurrent Neural Networks and NLP\n",
    "* 4:30 pm - 5:00 pm: Q&A and Feedback"
   ]
  }
 ],
 "metadata": {
  "kernelspec": {
   "display_name": "Python 2",
   "language": "python",
   "name": "python2"
  },
  "language_info": {
   "codemirror_mode": {
    "name": "ipython",
    "version": 2
   },
   "file_extension": ".py",
   "mimetype": "text/x-python",
   "name": "python",
   "nbconvert_exporter": "python",
   "pygments_lexer": "ipython2",
   "version": "2.7.10"
  }
 },
 "nbformat": 4,
 "nbformat_minor": 0
}
